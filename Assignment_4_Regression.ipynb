{
  "nbformat": 4,
  "nbformat_minor": 0,
  "metadata": {
    "colab": {
      "name": "Assignment 4 - Regression.ipynb",
      "provenance": [],
      "collapsed_sections": [],
      "include_colab_link": true
    },
    "kernelspec": {
      "name": "python3",
      "display_name": "Python 3"
    },
    "accelerator": "TPU"
  },
  "cells": [
    {
      "cell_type": "markdown",
      "metadata": {
        "id": "view-in-github",
        "colab_type": "text"
      },
      "source": [
        "<a href=\"https://colab.research.google.com/github/SURE18/Practical-Machine-Learning-with-Tensorflow/blob/master/Assignment_4_Regression.ipynb\" target=\"_parent\"><img src=\"https://colab.research.google.com/assets/colab-badge.svg\" alt=\"Open In Colab\"/></a>"
      ]
    },
    {
      "cell_type": "markdown",
      "metadata": {
        "id": "pLVhCarMwG70",
        "colab_type": "text"
      },
      "source": [
        "### **Setup**"
      ]
    },
    {
      "cell_type": "markdown",
      "metadata": {
        "id": "teXJ1XpSwdvR",
        "colab_type": "text"
      },
      "source": [
        "Install and import all the necessary libraries for the assignment."
      ]
    },
    {
      "cell_type": "code",
      "metadata": {
        "id": "UQNMrFD-ZBwK",
        "colab_type": "code",
        "colab": {
          "base_uri": "https://localhost:8080/",
          "height": 394
        },
        "outputId": "a2096402-d1e3-41dc-ef74-778e5c2b9116"
      },
      "source": [
        "!pip install tensorflow==2.0.0-rc0\n",
        "\n",
        "from sklearn.model_selection import train_test_split\n",
        "from sklearn.datasets import load_boston\n",
        "import tensorflow as tf\n",
        "import pandas as pd\n",
        "\n",
        "tf.random.set_seed(1)"
      ],
      "execution_count": 77,
      "outputs": [
        {
          "output_type": "stream",
          "text": [
            "Requirement already satisfied: tensorflow==2.0.0-rc0 in /usr/local/lib/python3.6/dist-packages (2.0.0rc0)\n",
            "Requirement already satisfied: numpy<2.0,>=1.16.0 in /usr/local/lib/python3.6/dist-packages (from tensorflow==2.0.0-rc0) (1.16.5)\n",
            "Requirement already satisfied: google-pasta>=0.1.6 in /usr/local/lib/python3.6/dist-packages (from tensorflow==2.0.0-rc0) (0.1.7)\n",
            "Requirement already satisfied: opt-einsum>=2.3.2 in /usr/local/lib/python3.6/dist-packages (from tensorflow==2.0.0-rc0) (3.0.1)\n",
            "Requirement already satisfied: astor>=0.6.0 in /usr/local/lib/python3.6/dist-packages (from tensorflow==2.0.0-rc0) (0.8.0)\n",
            "Requirement already satisfied: absl-py>=0.7.0 in /usr/local/lib/python3.6/dist-packages (from tensorflow==2.0.0-rc0) (0.8.0)\n",
            "Requirement already satisfied: wrapt>=1.11.1 in /usr/local/lib/python3.6/dist-packages (from tensorflow==2.0.0-rc0) (1.11.2)\n",
            "Requirement already satisfied: keras-preprocessing>=1.0.5 in /usr/local/lib/python3.6/dist-packages (from tensorflow==2.0.0-rc0) (1.1.0)\n",
            "Requirement already satisfied: six>=1.10.0 in /usr/local/lib/python3.6/dist-packages (from tensorflow==2.0.0-rc0) (1.12.0)\n",
            "Requirement already satisfied: termcolor>=1.1.0 in /usr/local/lib/python3.6/dist-packages (from tensorflow==2.0.0-rc0) (1.1.0)\n",
            "Requirement already satisfied: protobuf>=3.6.1 in /usr/local/lib/python3.6/dist-packages (from tensorflow==2.0.0-rc0) (3.7.1)\n",
            "Requirement already satisfied: gast>=0.2.0 in /usr/local/lib/python3.6/dist-packages (from tensorflow==2.0.0-rc0) (0.2.2)\n",
            "Requirement already satisfied: wheel>=0.26 in /usr/local/lib/python3.6/dist-packages (from tensorflow==2.0.0-rc0) (0.33.6)\n",
            "Requirement already satisfied: keras-applications>=1.0.8 in /usr/local/lib/python3.6/dist-packages (from tensorflow==2.0.0-rc0) (1.0.8)\n",
            "Requirement already satisfied: grpcio>=1.8.6 in /usr/local/lib/python3.6/dist-packages (from tensorflow==2.0.0-rc0) (1.15.0)\n",
            "Requirement already satisfied: tb-nightly<1.15.0a20190807,>=1.15.0a20190806 in /usr/local/lib/python3.6/dist-packages (from tensorflow==2.0.0-rc0) (1.15.0a20190806)\n",
            "Requirement already satisfied: tf-estimator-nightly<1.14.0.dev2019080602,>=1.14.0.dev2019080601 in /usr/local/lib/python3.6/dist-packages (from tensorflow==2.0.0-rc0) (1.14.0.dev2019080601)\n",
            "Requirement already satisfied: setuptools in /usr/local/lib/python3.6/dist-packages (from protobuf>=3.6.1->tensorflow==2.0.0-rc0) (41.2.0)\n",
            "Requirement already satisfied: h5py in /usr/local/lib/python3.6/dist-packages (from keras-applications>=1.0.8->tensorflow==2.0.0-rc0) (2.8.0)\n",
            "Requirement already satisfied: markdown>=2.6.8 in /usr/local/lib/python3.6/dist-packages (from tb-nightly<1.15.0a20190807,>=1.15.0a20190806->tensorflow==2.0.0-rc0) (3.1.1)\n",
            "Requirement already satisfied: werkzeug>=0.11.15 in /usr/local/lib/python3.6/dist-packages (from tb-nightly<1.15.0a20190807,>=1.15.0a20190806->tensorflow==2.0.0-rc0) (0.15.6)\n"
          ],
          "name": "stdout"
        }
      ]
    },
    {
      "cell_type": "markdown",
      "metadata": {
        "id": "qGGgAUOKwsWA",
        "colab_type": "text"
      },
      "source": [
        "### **Importing the dataset**"
      ]
    },
    {
      "cell_type": "code",
      "metadata": {
        "id": "GOe2azQOdmND",
        "colab_type": "code",
        "colab": {}
      },
      "source": [
        "boston_dataset = load_boston()\n",
        "\n",
        "data_X = pd.DataFrame(boston_dataset.data, columns=boston_dataset.feature_names)\n",
        "data_Y = pd.DataFrame(boston_dataset.target, columns=[\"target\"])\n",
        "data = pd.concat([data_X, data_Y], axis=1)"
      ],
      "execution_count": 0,
      "outputs": []
    },
    {
      "cell_type": "code",
      "metadata": {
        "id": "9gD5esSxfxjs",
        "colab_type": "code",
        "colab": {
          "base_uri": "https://localhost:8080/",
          "height": 68
        },
        "outputId": "aba820e3-afa6-4d1e-d081-d79075a318b5"
      },
      "source": [
        "train, test = train_test_split(data, test_size=0.2, random_state=1)\n",
        "train, val = train_test_split(train, test_size=0.2, random_state=1)\n",
        "print(len(train), \"train examples\")\n",
        "print(len(val), \"validation examples\")\n",
        "print(len(test), \"test examples\")"
      ],
      "execution_count": 79,
      "outputs": [
        {
          "output_type": "stream",
          "text": [
            "323 train examples\n",
            "81 validation examples\n",
            "102 test examples\n"
          ],
          "name": "stdout"
        }
      ]
    },
    {
      "cell_type": "code",
      "metadata": {
        "id": "PoeE59_aRVHI",
        "colab_type": "code",
        "colab": {
          "base_uri": "https://localhost:8080/",
          "height": 483
        },
        "outputId": "bb4293fb-9a50-446a-8cbe-ba4dcc89726b"
      },
      "source": [
        "train.describe().T"
      ],
      "execution_count": 104,
      "outputs": [
        {
          "output_type": "execute_result",
          "data": {
            "text/html": [
              "<div>\n",
              "<style scoped>\n",
              "    .dataframe tbody tr th:only-of-type {\n",
              "        vertical-align: middle;\n",
              "    }\n",
              "\n",
              "    .dataframe tbody tr th {\n",
              "        vertical-align: top;\n",
              "    }\n",
              "\n",
              "    .dataframe thead th {\n",
              "        text-align: right;\n",
              "    }\n",
              "</style>\n",
              "<table border=\"1\" class=\"dataframe\">\n",
              "  <thead>\n",
              "    <tr style=\"text-align: right;\">\n",
              "      <th></th>\n",
              "      <th>count</th>\n",
              "      <th>mean</th>\n",
              "      <th>std</th>\n",
              "      <th>min</th>\n",
              "      <th>25%</th>\n",
              "      <th>50%</th>\n",
              "      <th>75%</th>\n",
              "      <th>max</th>\n",
              "    </tr>\n",
              "  </thead>\n",
              "  <tbody>\n",
              "    <tr>\n",
              "      <th>CRIM</th>\n",
              "      <td>323.0</td>\n",
              "      <td>3.882044</td>\n",
              "      <td>9.680410</td>\n",
              "      <td>0.00632</td>\n",
              "      <td>0.082865</td>\n",
              "      <td>0.25387</td>\n",
              "      <td>3.944055</td>\n",
              "      <td>88.9762</td>\n",
              "    </tr>\n",
              "    <tr>\n",
              "      <th>ZN</th>\n",
              "      <td>323.0</td>\n",
              "      <td>12.233746</td>\n",
              "      <td>24.323780</td>\n",
              "      <td>0.00000</td>\n",
              "      <td>0.000000</td>\n",
              "      <td>0.00000</td>\n",
              "      <td>19.000000</td>\n",
              "      <td>100.0000</td>\n",
              "    </tr>\n",
              "    <tr>\n",
              "      <th>INDUS</th>\n",
              "      <td>323.0</td>\n",
              "      <td>11.121796</td>\n",
              "      <td>6.876617</td>\n",
              "      <td>0.46000</td>\n",
              "      <td>5.190000</td>\n",
              "      <td>8.56000</td>\n",
              "      <td>18.100000</td>\n",
              "      <td>27.7400</td>\n",
              "    </tr>\n",
              "    <tr>\n",
              "      <th>CHAS</th>\n",
              "      <td>323.0</td>\n",
              "      <td>0.080495</td>\n",
              "      <td>0.272481</td>\n",
              "      <td>0.00000</td>\n",
              "      <td>0.000000</td>\n",
              "      <td>0.00000</td>\n",
              "      <td>0.000000</td>\n",
              "      <td>1.0000</td>\n",
              "    </tr>\n",
              "    <tr>\n",
              "      <th>NOX</th>\n",
              "      <td>323.0</td>\n",
              "      <td>0.553683</td>\n",
              "      <td>0.118625</td>\n",
              "      <td>0.38500</td>\n",
              "      <td>0.447500</td>\n",
              "      <td>0.53200</td>\n",
              "      <td>0.624000</td>\n",
              "      <td>0.8710</td>\n",
              "    </tr>\n",
              "    <tr>\n",
              "      <th>RM</th>\n",
              "      <td>323.0</td>\n",
              "      <td>6.276935</td>\n",
              "      <td>0.691051</td>\n",
              "      <td>3.56100</td>\n",
              "      <td>5.886500</td>\n",
              "      <td>6.19300</td>\n",
              "      <td>6.666500</td>\n",
              "      <td>8.7800</td>\n",
              "    </tr>\n",
              "    <tr>\n",
              "      <th>AGE</th>\n",
              "      <td>323.0</td>\n",
              "      <td>68.279876</td>\n",
              "      <td>28.452257</td>\n",
              "      <td>2.90000</td>\n",
              "      <td>43.550000</td>\n",
              "      <td>77.70000</td>\n",
              "      <td>93.900000</td>\n",
              "      <td>100.0000</td>\n",
              "    </tr>\n",
              "    <tr>\n",
              "      <th>DIS</th>\n",
              "      <td>323.0</td>\n",
              "      <td>3.864749</td>\n",
              "      <td>2.154972</td>\n",
              "      <td>1.12960</td>\n",
              "      <td>2.120350</td>\n",
              "      <td>3.36030</td>\n",
              "      <td>5.237900</td>\n",
              "      <td>12.1265</td>\n",
              "    </tr>\n",
              "    <tr>\n",
              "      <th>RAD</th>\n",
              "      <td>323.0</td>\n",
              "      <td>9.721362</td>\n",
              "      <td>8.801984</td>\n",
              "      <td>1.00000</td>\n",
              "      <td>4.000000</td>\n",
              "      <td>5.00000</td>\n",
              "      <td>24.000000</td>\n",
              "      <td>24.0000</td>\n",
              "    </tr>\n",
              "    <tr>\n",
              "      <th>TAX</th>\n",
              "      <td>323.0</td>\n",
              "      <td>406.588235</td>\n",
              "      <td>170.365557</td>\n",
              "      <td>187.00000</td>\n",
              "      <td>279.000000</td>\n",
              "      <td>329.00000</td>\n",
              "      <td>666.000000</td>\n",
              "      <td>711.0000</td>\n",
              "    </tr>\n",
              "    <tr>\n",
              "      <th>PTRATIO</th>\n",
              "      <td>323.0</td>\n",
              "      <td>18.483282</td>\n",
              "      <td>2.162864</td>\n",
              "      <td>12.60000</td>\n",
              "      <td>17.350000</td>\n",
              "      <td>19.10000</td>\n",
              "      <td>20.200000</td>\n",
              "      <td>22.0000</td>\n",
              "    </tr>\n",
              "    <tr>\n",
              "      <th>B</th>\n",
              "      <td>323.0</td>\n",
              "      <td>359.145604</td>\n",
              "      <td>89.252050</td>\n",
              "      <td>0.32000</td>\n",
              "      <td>376.355000</td>\n",
              "      <td>391.93000</td>\n",
              "      <td>396.100000</td>\n",
              "      <td>396.9000</td>\n",
              "    </tr>\n",
              "    <tr>\n",
              "      <th>LSTAT</th>\n",
              "      <td>323.0</td>\n",
              "      <td>12.733529</td>\n",
              "      <td>7.251569</td>\n",
              "      <td>1.73000</td>\n",
              "      <td>7.065000</td>\n",
              "      <td>11.45000</td>\n",
              "      <td>17.155000</td>\n",
              "      <td>37.9700</td>\n",
              "    </tr>\n",
              "    <tr>\n",
              "      <th>target</th>\n",
              "      <td>323.0</td>\n",
              "      <td>22.674613</td>\n",
              "      <td>9.028215</td>\n",
              "      <td>5.00000</td>\n",
              "      <td>17.100000</td>\n",
              "      <td>21.20000</td>\n",
              "      <td>26.400000</td>\n",
              "      <td>50.0000</td>\n",
              "    </tr>\n",
              "  </tbody>\n",
              "</table>\n",
              "</div>"
            ],
            "text/plain": [
              "         count        mean         std  ...        50%         75%       max\n",
              "CRIM     323.0    3.882044    9.680410  ...    0.25387    3.944055   88.9762\n",
              "ZN       323.0   12.233746   24.323780  ...    0.00000   19.000000  100.0000\n",
              "INDUS    323.0   11.121796    6.876617  ...    8.56000   18.100000   27.7400\n",
              "CHAS     323.0    0.080495    0.272481  ...    0.00000    0.000000    1.0000\n",
              "NOX      323.0    0.553683    0.118625  ...    0.53200    0.624000    0.8710\n",
              "RM       323.0    6.276935    0.691051  ...    6.19300    6.666500    8.7800\n",
              "AGE      323.0   68.279876   28.452257  ...   77.70000   93.900000  100.0000\n",
              "DIS      323.0    3.864749    2.154972  ...    3.36030    5.237900   12.1265\n",
              "RAD      323.0    9.721362    8.801984  ...    5.00000   24.000000   24.0000\n",
              "TAX      323.0  406.588235  170.365557  ...  329.00000  666.000000  711.0000\n",
              "PTRATIO  323.0   18.483282    2.162864  ...   19.10000   20.200000   22.0000\n",
              "B        323.0  359.145604   89.252050  ...  391.93000  396.100000  396.9000\n",
              "LSTAT    323.0   12.733529    7.251569  ...   11.45000   17.155000   37.9700\n",
              "target   323.0   22.674613    9.028215  ...   21.20000   26.400000   50.0000\n",
              "\n",
              "[14 rows x 8 columns]"
            ]
          },
          "metadata": {
            "tags": []
          },
          "execution_count": 104
        }
      ]
    },
    {
      "cell_type": "markdown",
      "metadata": {
        "id": "_ZTeC55HxDeT",
        "colab_type": "text"
      },
      "source": [
        "Converting the Pandas DataFrames into Tensorflow Datasets"
      ]
    },
    {
      "cell_type": "code",
      "metadata": {
        "id": "nF4GRPPLdTIe",
        "colab_type": "code",
        "colab": {}
      },
      "source": [
        "def df_to_dataset(dataframe, shuffle=True, batch_size=32):\n",
        "  dataframe = dataframe.copy()\n",
        "  labels = dataframe.pop('target')\n",
        "  ds = tf.data.Dataset.from_tensor_slices((dict(dataframe), labels))\n",
        "  if shuffle:\n",
        "    ds = ds.shuffle(buffer_size=len(dataframe))\n",
        "  ds = ds.batch(batch_size)\n",
        "  return ds"
      ],
      "execution_count": 0,
      "outputs": []
    },
    {
      "cell_type": "code",
      "metadata": {
        "id": "UdZy7p3AaTRT",
        "colab_type": "code",
        "colab": {}
      },
      "source": [
        "batch_size = 32\n",
        "train_ds = df_to_dataset(train, True, batch_size)\n",
        "val_ds = df_to_dataset(val, False, batch_size)\n",
        "test_ds = df_to_dataset(test, False, batch_size)"
      ],
      "execution_count": 0,
      "outputs": []
    },
    {
      "cell_type": "code",
      "metadata": {
        "id": "z0IM1Y_KuG4n",
        "colab_type": "code",
        "colab": {}
      },
      "source": [
        ""
      ],
      "execution_count": 0,
      "outputs": []
    },
    {
      "cell_type": "code",
      "metadata": {
        "id": "xBQ1OiDllbr9",
        "colab_type": "code",
        "colab": {
          "base_uri": "https://localhost:8080/",
          "height": 935
        },
        "outputId": "392c4640-8bac-45a3-ad20-cfcc2ea7effd"
      },
      "source": [
        "for feature_batch, label_batch in train_ds.take(1):\n",
        "  print('Every feature:',list(feature_batch.keys()))\n",
        "  print('A batch of CRIMs:', feature_batch)\n",
        "  print('A batch of targets:', label_batch)"
      ],
      "execution_count": 90,
      "outputs": [
        {
          "output_type": "stream",
          "text": [
            "Every feature: ['CRIM', 'ZN', 'INDUS', 'CHAS', 'NOX', 'RM', 'AGE', 'DIS', 'RAD', 'TAX', 'PTRATIO', 'B', 'LSTAT']\n",
            "A batch of CRIMs: {'CRIM': <tf.Tensor: id=1596, shape=(32,), dtype=float64, numpy=\n",
            "array([ 4.75237,  0.17171,  0.07875,  0.66351,  0.06129,  0.49298,\n",
            "        0.35233,  4.54192,  0.95577,  9.39063, 14.4383 ,  6.80117,\n",
            "        4.87141, 15.5757 ,  0.25387,  0.09378,  0.0351 ,  0.1265 ,\n",
            "        0.24103,  0.01965,  0.22969,  7.75223,  0.1146 , 14.4208 ,\n",
            "        0.7857 ,  0.09604,  0.33045,  0.52058, 13.9134 ,  1.41385,\n",
            "        0.15936, 14.3337 ])>, 'ZN': <tf.Tensor: id=1605, shape=(32,), dtype=float64, numpy=\n",
            "array([ 0. , 25. , 45. , 20. , 20. ,  0. ,  0. ,  0. ,  0. ,  0. ,  0. ,\n",
            "        0. ,  0. ,  0. ,  0. , 12.5, 95. , 25. ,  0. , 80. ,  0. ,  0. ,\n",
            "       20. ,  0. , 20. , 40. ,  0. ,  0. ,  0. ,  0. ,  0. ,  0. ])>, 'INDUS': <tf.Tensor: id=1598, shape=(32,), dtype=float64, numpy=\n",
            "array([18.1 ,  5.13,  3.44,  3.97,  3.33,  9.9 , 21.89, 18.1 ,  8.14,\n",
            "       18.1 , 18.1 , 18.1 , 18.1 , 18.1 ,  6.91,  7.87,  2.68,  5.13,\n",
            "        7.38,  1.76, 10.59, 18.1 ,  6.96, 18.1 ,  3.97,  6.41,  6.2 ,\n",
            "        6.2 , 18.1 , 19.58,  6.91, 18.1 ])>, 'CHAS': <tf.Tensor: id=1595, shape=(32,), dtype=float64, numpy=\n",
            "array([0., 0., 0., 0., 1., 0., 0., 0., 0., 0., 0., 0., 0., 0., 0., 0., 0.,\n",
            "       0., 0., 0., 0., 0., 0., 0., 0., 0., 0., 1., 0., 1., 0., 0.])>, 'NOX': <tf.Tensor: id=1600, shape=(32,), dtype=float64, numpy=\n",
            "array([0.713 , 0.453 , 0.437 , 0.647 , 0.4429, 0.544 , 0.624 , 0.77  ,\n",
            "       0.538 , 0.74  , 0.597 , 0.713 , 0.614 , 0.58  , 0.448 , 0.524 ,\n",
            "       0.4161, 0.453 , 0.493 , 0.385 , 0.489 , 0.713 , 0.464 , 0.74  ,\n",
            "       0.647 , 0.447 , 0.507 , 0.507 , 0.713 , 0.871 , 0.448 , 0.614 ])>, 'RM': <tf.Tensor: id=1603, shape=(32,), dtype=float64, numpy=\n",
            "array([6.525, 5.966, 6.782, 7.333, 7.645, 6.635, 6.454, 6.398, 6.047,\n",
            "       5.627, 6.852, 6.081, 6.484, 5.926, 5.399, 5.889, 7.853, 6.762,\n",
            "       6.083, 6.23 , 6.326, 6.301, 6.538, 6.461, 7.014, 6.854, 6.086,\n",
            "       6.631, 6.208, 6.129, 6.211, 6.229])>, 'AGE': <tf.Tensor: id=1593, shape=(32,), dtype=float64, numpy=\n",
            "array([ 86.5,  93.4,  41.1, 100. ,  49.7,  82.5,  98.4,  88. ,  88.8,\n",
            "        93.9, 100. ,  84.4,  93.6,  71. ,  95.3,  39. ,  33.2,  43.4,\n",
            "        43.7,  31.5,  52.5,  83.7,  58.7,  93.3,  84.6,  42.8,  61.5,\n",
            "        76.5,  95. ,  96. ,   6.5,  88. ])>, 'DIS': <tf.Tensor: id=1597, shape=(32,), dtype=float64, numpy=\n",
            "array([2.4358, 6.8185, 3.7886, 1.8946, 5.2119, 3.3175, 1.8498, 2.5182,\n",
            "       4.4534, 1.8172, 1.4655, 2.7175, 2.3053, 2.9084, 5.87  , 5.4509,\n",
            "       5.118 , 7.9809, 5.4159, 9.0892, 4.3549, 2.7831, 3.9175, 2.0026,\n",
            "       2.1329, 4.2673, 3.6519, 4.148 , 2.2222, 1.7494, 5.7209, 1.9512])>, 'RAD': <tf.Tensor: id=1602, shape=(32,), dtype=float64, numpy=\n",
            "array([24.,  8.,  5.,  5.,  5.,  4.,  4., 24.,  4., 24., 24., 24., 24.,\n",
            "       24.,  3.,  5.,  4.,  8.,  5.,  1.,  4., 24.,  3., 24.,  5.,  4.,\n",
            "        8.,  8., 24.,  5.,  3., 24.])>, 'TAX': <tf.Tensor: id=1604, shape=(32,), dtype=float64, numpy=\n",
            "array([666., 284., 398., 264., 216., 304., 437., 666., 307., 666., 666.,\n",
            "       666., 666., 666., 233., 311., 224., 284., 287., 241., 277., 666.,\n",
            "       223., 666., 264., 254., 307., 307., 666., 403., 233., 666.])>, 'PTRATIO': <tf.Tensor: id=1601, shape=(32,), dtype=float64, numpy=\n",
            "array([20.2, 19.7, 15.2, 13. , 14.9, 18.4, 21.2, 20.2, 21. , 20.2, 20.2,\n",
            "       20.2, 20.2, 20.2, 17.9, 15.2, 14.7, 19.7, 19.6, 18.2, 18.6, 20.2,\n",
            "       18.6, 20.2, 13. , 17.6, 17.4, 17.4, 20.2, 14.7, 17.9, 20.2])>, 'B': <tf.Tensor: id=1594, shape=(32,), dtype=float64, numpy=\n",
            "array([ 50.92, 378.08, 393.87, 383.29, 377.07, 396.9 , 394.08, 374.56,\n",
            "       306.38, 396.9 , 179.36, 396.9 , 396.21, 368.74, 396.9 , 390.5 ,\n",
            "       392.78, 395.58, 396.9 , 341.6 , 394.87, 272.21, 394.96,  27.49,\n",
            "       384.07, 396.9 , 376.75, 388.45, 100.63, 321.02, 394.46, 383.32])>, 'LSTAT': <tf.Tensor: id=1599, shape=(32,), dtype=float64, numpy=\n",
            "array([18.13, 14.44,  6.68,  7.79,  3.01,  4.54, 14.59,  7.79, 17.28,\n",
            "       22.88, 19.78, 14.7 , 18.68, 18.13, 30.81, 15.71,  3.81,  9.5 ,\n",
            "       12.79, 12.93, 10.97, 16.23,  7.73, 18.05, 14.79,  2.98, 10.88,\n",
            "        9.54, 15.17, 15.12,  7.44, 13.11])>}\n",
            "A batch of targets: tf.Tensor(\n",
            "[14.1 16.  32.  36.  46.  22.8 17.1 25.  14.8 12.8 27.5 20.  16.7 19.1\n",
            " 14.4 21.7 48.5 25.  22.2 20.1 24.4 14.9 24.4  9.6 30.7 32.  24.  25.1\n",
            " 11.7 17.  24.7 21.4], shape=(32,), dtype=float64)\n"
          ],
          "name": "stdout"
        }
      ]
    },
    {
      "cell_type": "code",
      "metadata": {
        "id": "1WjCCT0BQWpq",
        "colab_type": "code",
        "colab": {
          "base_uri": "https://localhost:8080/",
          "height": 238
        },
        "outputId": "1c005030-a43c-4958-cd98-5e1be03c1bd1"
      },
      "source": [
        "for key in feature_batch.keys():\n",
        "  print(type(key) ,' ',feature_batch[key][0:3])"
      ],
      "execution_count": 112,
      "outputs": [
        {
          "output_type": "stream",
          "text": [
            "<class 'str'>   tf.Tensor([4.75237 0.17171 0.07875], shape=(3,), dtype=float64)\n",
            "<class 'str'>   tf.Tensor([ 0. 25. 45.], shape=(3,), dtype=float64)\n",
            "<class 'str'>   tf.Tensor([18.1   5.13  3.44], shape=(3,), dtype=float64)\n",
            "<class 'str'>   tf.Tensor([0. 0. 0.], shape=(3,), dtype=float64)\n",
            "<class 'str'>   tf.Tensor([0.713 0.453 0.437], shape=(3,), dtype=float64)\n",
            "<class 'str'>   tf.Tensor([6.525 5.966 6.782], shape=(3,), dtype=float64)\n",
            "<class 'str'>   tf.Tensor([86.5 93.4 41.1], shape=(3,), dtype=float64)\n",
            "<class 'str'>   tf.Tensor([2.4358 6.8185 3.7886], shape=(3,), dtype=float64)\n",
            "<class 'str'>   tf.Tensor([24.  8.  5.], shape=(3,), dtype=float64)\n",
            "<class 'str'>   tf.Tensor([666. 284. 398.], shape=(3,), dtype=float64)\n",
            "<class 'str'>   tf.Tensor([20.2 19.7 15.2], shape=(3,), dtype=float64)\n",
            "<class 'str'>   tf.Tensor([ 50.92 378.08 393.87], shape=(3,), dtype=float64)\n",
            "<class 'str'>   tf.Tensor([18.13 14.44  6.68], shape=(3,), dtype=float64)\n"
          ],
          "name": "stdout"
        }
      ]
    },
    {
      "cell_type": "markdown",
      "metadata": {
        "id": "63KuTr4sxMl6",
        "colab_type": "text"
      },
      "source": [
        "### Defining Feature Columns"
      ]
    },
    {
      "cell_type": "code",
      "metadata": {
        "id": "380jHjPokFUy",
        "colab_type": "code",
        "colab": {}
      },
      "source": [
        "# define feature_columns as a list of features using functions from tf.feature_column\n",
        "\n",
        "feature_columns = []\n",
        "for key in feature_batch.keys():\n",
        "  feature_columns.append(tf.feature_column.numeric_column(key))\n"
      ],
      "execution_count": 0,
      "outputs": []
    },
    {
      "cell_type": "markdown",
      "metadata": {
        "id": "ykVCMrdMxVB5",
        "colab_type": "text"
      },
      "source": [
        "### Building the model"
      ]
    },
    {
      "cell_type": "code",
      "metadata": {
        "id": "oAc9LpVzqql9",
        "colab_type": "code",
        "colab": {}
      },
      "source": [
        "feature_layer = tf.keras.layers.DenseFeatures(feature_columns)"
      ],
      "execution_count": 0,
      "outputs": []
    },
    {
      "cell_type": "markdown",
      "metadata": {
        "id": "y6B9FgRyyGXe",
        "colab_type": "text"
      },
      "source": [
        "Model should contain following layers:\n",
        "\n",
        "```\n",
        "feature_layer\n",
        "\n",
        "Dense(1, activation=None)\n",
        "```\n",
        "\n",
        "Use 'Adam' optimizer\n",
        "\n",
        "Use 'mse' as your loss and metric"
      ]
    },
    {
      "cell_type": "code",
      "metadata": {
        "id": "ZInuZ8D0xsu1",
        "colab_type": "code",
        "colab": {}
      },
      "source": [
        "# Build and compile your model in this cell.\n"
      ],
      "execution_count": 0,
      "outputs": []
    },
    {
      "cell_type": "code",
      "metadata": {
        "id": "Igdzl3wasRo6",
        "colab_type": "code",
        "colab": {}
      },
      "source": [
        "model.fit(train_ds, validation_data=val_ds, epochs=200)"
      ],
      "execution_count": 0,
      "outputs": []
    },
    {
      "cell_type": "code",
      "metadata": {
        "id": "NFu2k4J_spfi",
        "colab_type": "code",
        "colab": {}
      },
      "source": [
        "loss, mse = model.evaluate(test_ds)\n",
        "print(\"Mean Squared Error - Test Data\", mse)"
      ],
      "execution_count": 0,
      "outputs": []
    }
  ]
}